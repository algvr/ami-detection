{
 "cells": [
  {
   "cell_type": "code",
   "execution_count": null,
   "outputs": [],
   "source": [
    "# use this notebook to test the data augmentation functions, and to generate ECG photograph datasets (see bottommost cell)"
   ],
   "metadata": {
    "collapsed": false,
    "pycharm": {
     "name": "#%%\n"
    }
   }
  },
  {
   "cell_type": "code",
   "execution_count": null,
   "outputs": [],
   "source": [
    "# imports\n",
    "\n",
    "from data_augmentation import *\n",
    "from IPython.core.display_functions import display\n",
    "import math\n",
    "import os"
   ],
   "metadata": {
    "collapsed": false,
    "pycharm": {
     "name": "#%%\n"
    }
   }
  },
  {
   "cell_type": "code",
   "execution_count": null,
   "outputs": [],
   "source": [
    "# tips for finding sensible default parameters for the parameter distributions of get_random_ecg_photo:\n",
    "#\n",
    "# fix all sigmas to 0 except the parameter(s) to vary; downscale image for faster generation time\n",
    "# go to desmos.com, input Gaussian/Beta PDF formula with parameters to see how likely a given parameter value will be\n",
    "# for shadows, we can have either a bright shadow (camera flash) or a dark shadow (normal shadow); we use a U-shaped beta distribution to simulate this"
   ],
   "metadata": {
    "collapsed": false,
    "pycharm": {
     "name": "#%%\n"
    }
   }
  },
  {
   "cell_type": "code",
   "execution_count": null,
   "outputs": [],
   "source": [
    "bg_img = get_background_image(3)  # useful for fixing a specific background image"
   ],
   "metadata": {
    "collapsed": false,
    "pycharm": {
     "name": "#%%\n"
    }
   }
  },
  {
   "cell_type": "code",
   "execution_count": null,
   "outputs": [],
   "source": [
    "# experiment with different parameters here\n",
    "\n",
    "img, label = get_random_ecg_photo(original_image_scaling_factor_mu=1.0,\n",
    "                                  original_image_scaling_factor_sd=0.0,\n",
    "                                  blur_factor_mu=0.1,\n",
    "                                  blur_factor_sd=0.05,\n",
    "                                  ecg_paper_scale_mu=1.02,\n",
    "                                  ecg_paper_scale_sd=0.02,\n",
    "                                  ecg_paper_y_skew_mu=1.0,\n",
    "                                  ecg_paper_y_skew_sd=0.08,\n",
    "                                  rotation_angle_mu=0.0,\n",
    "                                  rotation_angle_sd=5.0,\n",
    "                                  ecg_paper_relative_translation_x_mu=0.0,\n",
    "                                  ecg_paper_relative_translation_x_sd=0.05,\n",
    "                                  ecg_paper_relative_translation_y_mu=0.0,\n",
    "                                  ecg_paper_relative_translation_y_sd=0.05,\n",
    "                                  shadow_color_beta_1=0.3,\n",
    "                                  shadow_color_beta_2=0.3,\n",
    "                                  shadow_alpha_beta_1=8.0,\n",
    "                                  shadow_alpha_beta_2=25.0,\n",
    "                                  shadow_relative_start_point_mu=0.0,\n",
    "                                  shadow_relative_start_point_sd=0.1,\n",
    "                                  shadow_relative_end_point_mu=1.0,\n",
    "                                  shadow_relative_end_point_sd=0.1,\n",
    "                                  shadow_blur_factor_mu=50.0,\n",
    "                                  shadow_blur_factor_sigma=3.0)\n",
    "                                  #background_image=bg_img)\n",
    "display(img)"
   ],
   "metadata": {
    "collapsed": false,
    "pycharm": {
     "name": "#%%\n"
    }
   }
  },
  {
   "cell_type": "code",
   "execution_count": null,
   "outputs": [],
   "source": [
    "# dataset generation\n",
    "\n",
    "import datetime\n",
    "\n",
    "save_dir = os.path.join('datasets', 'ptb_v')\n",
    "os.makedirs(save_dir, exist_ok=True)\n",
    "\n",
    "num_samples_to_generate = 10\n",
    "\n",
    "for sample_idx in range(num_samples_to_generate):\n",
    "    photo, data = get_random_ecg_photo()\n",
    "    scp_codes = data['scp_codes']\n",
    "    scp_code_str = '_'.join([f'{k}={v}' for k, v in scp_codes.items()])\n",
    "    rec_date = datetime.datetime.strptime(data['recording_date'], '%Y-%m-%d %H:%M:%S')\n",
    "    rec_timestamp = (rec_date - datetime.datetime(1970, 1, 1)).total_seconds()\n",
    "    id_str = str(int(data['patient_id'])) + '_' + str(int(rec_timestamp))\n",
    "    if len(scp_code_str) > 0:\n",
    "        scp_code_str = '_' + scp_code_str\n",
    "    filename = ('%0' + str(math.ceil(math.log10(num_samples_to_generate))) + 'd_' + id_str + scp_code_str + '.jpg') % sample_idx\n",
    "    photo.convert('RGB').save(os.path.join(save_dir, filename))"
   ],
   "metadata": {
    "collapsed": false,
    "pycharm": {
     "name": "#%%\n"
    }
   }
  }
 ],
 "metadata": {
  "colab": {
   "authorship_tag": "ABX9TyO/Inz4Z9CobiN6BrT6XYjn",
   "collapsed_sections": [],
   "include_colab_link": true,
   "name": "data_augmentation.ipynb",
   "provenance": []
  },
  "kernelspec": {
   "display_name": "Python 3 (ipykernel)",
   "language": "python",
   "name": "python3"
  },
  "language_info": {
   "codemirror_mode": {
    "name": "ipython",
    "version": 3
   },
   "file_extension": ".py",
   "mimetype": "text/x-python",
   "name": "python",
   "nbconvert_exporter": "python",
   "pygments_lexer": "ipython3",
   "version": "3.7.13"
  }
 },
 "nbformat": 4,
 "nbformat_minor": 1
}