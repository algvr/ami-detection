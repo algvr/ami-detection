{
 "cells": [
  {
   "cell_type": "code",
   "execution_count": null,
   "source": [
    "# use this notebook to test the data augmentation functions, and to generate ECG photograph datasets (see bottommost cell)"
   ],
   "outputs": [],
   "metadata": {
    "collapsed": false,
    "pycharm": {
     "name": "#%%\n"
    }
   }
  },
  {
   "cell_type": "code",
   "execution_count": null,
   "source": [
    "# imports\n",
    "\n",
    "from data_augmentation import *\n",
    "from IPython.core.display_functions import display\n",
    "import json\n",
    "import math\n",
    "import numpy as np\n",
    "from PIL import Image\n",
    "import os"
   ],
   "outputs": [],
   "metadata": {
    "collapsed": false,
    "pycharm": {
     "name": "#%%\n"
    }
   }
  },
  {
   "cell_type": "code",
   "execution_count": null,
   "source": [
    "# tips for finding sensible default parameters for the parameter distributions of get_random_ecg_photo:\n",
    "#\n",
    "# fix all sigmas to 0 except the parameter(s) to vary; downscale image for faster generation time\n",
    "# go to desmos.com, input Gaussian/Beta PDF formula with parameters to see how likely a given parameter value will be\n",
    "# for shadows, we can have either a bright shadow (camera flash) or a dark shadow (normal shadow); we use a U-shaped beta distribution to simulate this"
   ],
   "outputs": [],
   "metadata": {
    "collapsed": false,
    "pycharm": {
     "name": "#%%\n"
    }
   }
  },
  {
   "cell_type": "code",
   "execution_count": null,
   "source": [
    "bg_img = get_background_image(3)  # useful for fixing a specific background image"
   ],
   "outputs": [],
   "metadata": {
    "collapsed": false,
    "pycharm": {
     "name": "#%%\n"
    }
   }
  },
  {
   "cell_type": "code",
   "execution_count": null,
   "source": [
    "# experiment with different parameters here\n",
    "\n",
    "img, label, lead_pos, angle = get_random_ecg_photo(original_image_scaling_factor_mu=1.0,\n",
    "                                                   original_image_scaling_factor_sd=0.0,\n",
    "                                                   blur_factor_mu=0.1,\n",
    "                                                   blur_factor_sd=0.05,\n",
    "                                                   ecg_paper_scale_mu=1.02,\n",
    "                                                   ecg_paper_scale_sd=0.02,\n",
    "                                                   ecg_paper_y_skew_mu=1.0,\n",
    "                                                   ecg_paper_y_skew_sd=0.08,\n",
    "                                                   rotation_angle_mu=0.0,\n",
    "                                                   rotation_angle_sd=5.0,\n",
    "                                                   ecg_paper_relative_translation_x_mu=0.0,\n",
    "                                                   ecg_paper_relative_translation_x_sd=0.05,\n",
    "                                                   ecg_paper_relative_translation_y_mu=0.0,\n",
    "                                                   ecg_paper_relative_translation_y_sd=0.05,\n",
    "                                                   shadow_color_beta_1=0.3,\n",
    "                                                   shadow_color_beta_2=0.3,\n",
    "                                                   shadow_alpha_beta_1=8.0,\n",
    "                                                   shadow_alpha_beta_2=25.0,\n",
    "                                                   shadow_relative_start_point_mu=0.0,\n",
    "                                                   shadow_relative_start_point_sd=0.1,\n",
    "                                                   shadow_relative_end_point_mu=1.0,\n",
    "                                                   shadow_relative_end_point_sd=0.1,\n",
    "                                                   shadow_blur_factor_mu=50.0,\n",
    "                                                   shadow_blur_factor_sigma=3.0,\n",
    "                                                   white_noise_p_beta_1=5.0,\n",
    "                                                   white_noise_p_beta_2=5.0,\n",
    "                                                   white_noise_sigma_mu=20.0,\n",
    "                                                   white_noise_sigma_sigma=5.0)\n",
    "                                                   #background_image=bg_img)\n",
    "display(img)"
   ],
   "outputs": [],
   "metadata": {
    "collapsed": false,
    "pycharm": {
     "name": "#%%\n"
    }
   }
  },
  {
   "cell_type": "code",
   "execution_count": null,
   "source": [
    "save_dir = os.path.join('datasets', 'ptb_v')\n",
    "os.makedirs(save_dir, exist_ok=True)"
   ],
   "outputs": [],
   "metadata": {}
  },
  {
   "cell_type": "code",
   "execution_count": null,
   "source": [
    "# dataset generation\n",
    "\n",
    "import datetime\n",
    "\n",
    "num_samples_to_generate = 100\n",
    "\n",
    "for sample_idx in range(num_samples_to_generate):\n",
    "    photo, data, lead_pos, angle = get_random_ecg_photo()\n",
    "    scp_codes = data['scp_codes']\n",
    "    scp_code_str = '_'.join([f'{k}={v}' for k, v in scp_codes.items()])\n",
    "    rec_date = datetime.datetime.strptime(data['recording_date'], '%Y-%m-%d %H:%M:%S')\n",
    "    rec_timestamp = (rec_date - datetime.datetime(1970, 1, 1)).total_seconds()\n",
    "    id_str = str(int(data['patient_id'])) + '_' + str(int(rec_timestamp))\n",
    "    if len(scp_code_str) > 0:\n",
    "        scp_code_str = '_' + scp_code_str\n",
    "    path_no_ext = (('%0' + str(math.ceil(math.log10(num_samples_to_generate))) + 'd_' + id_str + scp_code_str)\n",
    "                   % sample_idx)\n",
    "    path_photo = os.path.join(save_dir, path_no_ext + '.jpg')\n",
    "    photo.convert('RGB').save(path_photo)\n",
    "\n",
    "    img_width, img_height = photo.size\n",
    "    with open(os.path.join(save_dir, path_no_ext + '_lead_pos.json'), 'w') as lead_pos_file:\n",
    "        lead_pos['_file_path'] = path_photo\n",
    "        lead_pos['_angle'] = angle\n",
    "        lead_pos['_img_width'] = img_width\n",
    "        lead_pos['_img_height'] = img_height\n",
    "        lead_pos_file.write(json.dumps(lead_pos))"
   ],
   "outputs": [],
   "metadata": {
    "collapsed": false,
    "pycharm": {
     "name": "#%%\n"
    }
   }
  },
  {
   "cell_type": "code",
   "execution_count": null,
   "source": [
    "# generation of individual lead pictures\n",
    "\n",
    "# lead bounding box distortion:\n",
    "\n",
    "lead_bounding_box_distortion_sigma = 15.0\n",
    "\n",
    "\n",
    "def get_new_point_pos(pt_x, pt_y, angle_deg, img_width, img_height):\n",
    "    # credit to https://stackoverflow.com/a/51964802\n",
    "    center_x = int(img_width / 2)\n",
    "    center_y = int(img_height / 2)\n",
    "\n",
    "    angle_rad = (angle_deg / 180.0) * math.pi\n",
    "    new_px = center_x + int(float(pt_x - center_x) * math.cos(angle_rad)\n",
    "                            + float(pt_y - center_y) * math.sin(angle_rad))\n",
    "    new_py = center_y + int(-(float(pt_x - center_x) * math.sin(angle_rad))\n",
    "                            + float(pt_y - center_y) * math.cos(angle_rad))\n",
    "    return new_px, new_py\n",
    "\n",
    "individual_lead_dir = os.path.join(save_dir, 'individual_leads')\n",
    "os.makedirs(individual_lead_dir, exist_ok=True)\n",
    "\n",
    "for root, dirs, files in os.walk(save_dir):\n",
    "    for filename in files:\n",
    "        if not filename.lower().endswith('.json'):\n",
    "            continue\n",
    "        with open(os.path.join(save_dir, filename)) as f:\n",
    "            content = f.read()\n",
    "            try:\n",
    "                lead_pos = json.loads(content)\n",
    "                _file_path = lead_pos['_file_path']\n",
    "                angle = lead_pos['_angle']\n",
    "                img_width = lead_pos['_img_width']\n",
    "                img_height = lead_pos['_img_height']\n",
    "            except Exception as e:\n",
    "                continue\n",
    "\n",
    "            photo_fn = os.path.basename(_file_path)\n",
    "            dot_idx = photo_fn.rfind('.')\n",
    "            photo_ext = photo_fn[dot_idx+1:]\n",
    "            individual_lead_fn_prefix = os.path.join(individual_lead_dir, photo_fn[:dot_idx])\n",
    "\n",
    "            img = Image.open(_file_path)\n",
    "            rot_img = img.rotate(-angle)\n",
    "\n",
    "            rot_kwargs = {'angle_deg': -angle, 'img_width': img_width, 'img_height': img_height}\n",
    "\n",
    "            for lead_name, pos in lead_pos.items():\n",
    "                if lead_name.startswith('_'):\n",
    "                    continue\n",
    "                \n",
    "                tl_x, tl_y, tr_x, tr_y, bl_x, bl_y, br_x, br_y =\\\n",
    "                    [round(p + np.random.normal(0, lead_bounding_box_distortion_sigma)) for p in pos]\n",
    "                tl_x_rot, tl_y_rot = get_new_point_pos(tl_x, tl_y, **rot_kwargs)\n",
    "                tr_x_rot, tr_y_rot = get_new_point_pos(tr_x, tr_y, **rot_kwargs)\n",
    "                bl_x_rot, bl_y_rot = get_new_point_pos(bl_x, bl_y, **rot_kwargs)\n",
    "                br_x_rot, br_y_rot = get_new_point_pos(br_x, br_y, **rot_kwargs)\n",
    "                \n",
    "                leftmost_x   = max(0, min(img_width - 1, min([tl_x_rot, tr_x_rot, bl_x_rot, br_x_rot])))\n",
    "                topmost_y    = max(0, min(img_height - 1, min([tl_y_rot, tr_y_rot, bl_y_rot, br_y_rot])))\n",
    "                \n",
    "                rightmost_x  = max(0, min(img_width - 1, max([tl_x_rot, tr_x_rot, bl_x_rot, br_x_rot])))\n",
    "                bottommost_y = max(0, min(img_height - 1, max([tl_y_rot, tr_y_rot, bl_y_rot, br_y_rot])))\n",
    "\n",
    "                lead_img = rot_img.crop((leftmost_x, topmost_y, rightmost_x, bottommost_y))\n",
    "                \n",
    "                lead_img_path = f'{individual_lead_fn_prefix}_LEAD={lead_name}.{photo_ext}'\n",
    "                lead_img.save(lead_img_path)\n"
   ],
   "outputs": [],
   "metadata": {}
  },
  {
   "cell_type": "code",
   "execution_count": null,
   "source": [],
   "outputs": [],
   "metadata": {}
  }
 ],
 "metadata": {
  "colab": {
   "authorship_tag": "ABX9TyO/Inz4Z9CobiN6BrT6XYjn",
   "collapsed_sections": [],
   "include_colab_link": true,
   "name": "data_augmentation.ipynb",
   "provenance": []
  },
  "kernelspec": {
   "name": "python3",
   "display_name": "Python 3.8.5 64-bit"
  },
  "language_info": {
   "codemirror_mode": {
    "name": "ipython",
    "version": 3
   },
   "file_extension": ".py",
   "mimetype": "text/x-python",
   "name": "python",
   "nbconvert_exporter": "python",
   "pygments_lexer": "ipython3",
   "version": "3.8.5"
  },
  "interpreter": {
   "hash": "31f2aee4e71d21fbe5cf8b01ff0e069b9275f58929596ceb00d14d90e3e16cd6"
  }
 },
 "nbformat": 4,
 "nbformat_minor": 1
}