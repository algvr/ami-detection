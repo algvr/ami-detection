{
 "cells": [
  {
   "cell_type": "code",
   "execution_count": null,
   "outputs": [],
   "source": [
    "# use this notebook to test the ECG plotting function"
   ],
   "metadata": {
    "collapsed": false,
    "pycharm": {
     "name": "#%%\n"
    }
   }
  },
  {
   "cell_type": "code",
   "execution_count": null,
   "id": "886d57db",
   "metadata": {},
   "outputs": [],
   "source": [
    "# imports\n",
    "\n",
    "from ecg_plotting import *\n",
    "from IPython.core.display_functions import display\n",
    "import numpy as np"
   ]
  },
  {
   "cell_type": "code",
   "execution_count": null,
   "outputs": [],
   "source": [
    "# download datasets\n",
    "\n",
    "from dataset_downloader import download_dataset\n",
    "import datasets.ptb_xl.data_handling as ptb_xl_dh\n",
    "\n",
    "download_dataset('backgrounds')\n",
    "download_dataset('ptb_xl')"
   ],
   "metadata": {
    "collapsed": false,
    "pycharm": {
     "name": "#%%\n"
    }
   }
  },
  {
   "cell_type": "code",
   "execution_count": null,
   "outputs": [],
   "source": [
    "# generate and visualize an ECG paper\n",
    "\n",
    "def generate_example_ecg():\n",
    "    X, Y = ptb_xl_dh.get_ecg_array()\n",
    "    X_0 = X[0]\n",
    "    example_layout_array = np.stack([[[list(map(str.lower, ptb_xl_dh.PTB_XL_LEAD_LABELS)).index(\n",
    "        DEFAULT_ECG_LEAD_SEQUENCE[4 * row_idx + col_idx].lower()), 0, 180] for col_idx in range(4)] for row_idx in range(3)])\n",
    "    example_label_array = ptb_xl_dh.layout_array_to_label_array(example_layout_array)\n",
    "    img = get_ecg_image(layout_array=example_layout_array, label_array=example_label_array, recording_array=X_0)\n",
    "    return img"
   ],
   "metadata": {
    "collapsed": false,
    "pycharm": {
     "name": "#%%\n"
    }
   }
  },
  {
   "cell_type": "code",
   "execution_count": null,
   "outputs": [],
   "source": [
    "display(generate_example_ecg())"
   ],
   "metadata": {
    "collapsed": false,
    "pycharm": {
     "name": "#%%\n"
    }
   }
  }
 ],
 "metadata": {
  "kernelspec": {
   "display_name": "Python 3 (ipykernel)",
   "language": "python",
   "name": "python3"
  },
  "language_info": {
   "codemirror_mode": {
    "name": "ipython",
    "version": 3
   },
   "file_extension": ".py",
   "mimetype": "text/x-python",
   "name": "python",
   "nbconvert_exporter": "python",
   "pygments_lexer": "ipython3",
   "version": "3.7.13"
  }
 },
 "nbformat": 4,
 "nbformat_minor": 5
}