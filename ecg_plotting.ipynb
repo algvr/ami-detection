{
 "cells": [
  {
   "cell_type": "code",
   "execution_count": 1,
   "id": "886d57db",
   "metadata": {},
   "outputs": [],
   "source": [
    "import numpy as np\n",
    "import math\n",
    "import datasets.ptb_xl.data_handling as dh\n",
    "from PIL import Image, ImageDraw"
   ]
  },
  {
   "cell_type": "code",
   "execution_count": 2,
   "id": "6230e2ee",
   "metadata": {},
   "outputs": [],
   "source": [
    "DEFAULT_SPACE=10\n",
    "DEFAULT_SHIFT=200\n",
    "DEFAULT_HEIGHT=50\n",
    "DEFAULT_T_STEPS=200\n",
    "DEFAULT_LINE_WIDTH=2"
   ]
  },
  {
   "cell_type": "code",
   "execution_count": 3,
   "id": "81e6ccd5",
   "metadata": {},
   "outputs": [],
   "source": [
    "X = dh.get_ecg_array()\n",
    "X.shape\n",
    "X_0 = X[0]"
   ]
  },
  {
   "cell_type": "code",
   "execution_count": 4,
   "id": "3029ae1e",
   "metadata": {},
   "outputs": [],
   "source": [
    "def draw_grid(num_t_steps=DEFAULT_T_STEPS, space=DEFAULT_SPACE, h=DEFAULT_HEIGHT*DEFAULT_SPACE):\n",
    "    w = math.ceil(num_t_steps/4)*space\n",
    "    img = Image.new(\"RGB\", (w, h))\n",
    "    img1 = ImageDraw.Draw(img)\n",
    "    img1.rectangle([(0,0), (w,h)], fill =\"#ffffff\")\n",
    "    return img"
   ]
  },
  {
   "cell_type": "code",
   "execution_count": 5,
   "id": "f241520c",
   "metadata": {},
   "outputs": [],
   "source": [
    "def draw_lines(img, num_hor=DEFAULT_T_STEPS//4, num_ver=DEFAULT_HEIGHT, space=DEFAULT_SPACE):\n",
    "    w, h= img.size\n",
    "    img1 = ImageDraw.Draw(img)\n",
    "    for i in range(num_hor+1):\n",
    "        img1.line([(space*i, 0), (space*i, h)], width=2 if i % 5 == 0 else 1, fill=\"#EC2320\")\n",
    "    for i in range(num_ver+1):\n",
    "        img1.line([(0, space*i), (w, space*i)], width=2 if i % 5 == 0 else 1, fill=\"#EC2320\")\n",
    "    return img"
   ]
  },
  {
   "cell_type": "code",
   "execution_count": 6,
   "id": "dda042c5",
   "metadata": {},
   "outputs": [],
   "source": [
    "def draw_curves(img, X_0, space=DEFAULT_SPACE, scale=DEFAULT_SPACE*10, shift=DEFAULT_SHIFT, t_start=0, t_end=int(1000/5), num_lead=0):\n",
    "    X_0 = X_0[t_start:t_end, num_lead]\n",
    "    x_shift = 9*space                   # 9 for the initial rectangle\n",
    "    def draw_initial_rect(img, x1=0, y1=shift):\n",
    "        img1 = ImageDraw.Draw(img)\n",
    "        x_square = (x1, x1+2*space, x1+2*space, x1+7*space, x1+7*space, x1+9*space)\n",
    "        y__square = (y1, y1, y1-10*space, y1-10*space, y1, y1)\n",
    "\n",
    "        img1.line( list(zip(x_square, y__square)), width=DEFAULT_LINE_WIDTH, fill=\"#000000\")\n",
    "\n",
    "    w, h= img.size\n",
    "    t_steps = t_end-t_start\n",
    "    img1 = ImageDraw.Draw(img)\n",
    "    xs = np.linspace(0, space*math.ceil(t_steps/4), t_steps)\n",
    "    draw_initial_rect(img)\n",
    "    for index, x in enumerate(xs[:-1]):\n",
    "        img1.line([(x_shift+x,shift-scale*X_0[index]),(x_shift+xs[index+1], shift-scale*X_0[index+1])], width=DEFAULT_LINE_WIDTH, fill=\"#000000\")\n",
    "    return img"
   ]
  },
  {
   "cell_type": "code",
   "execution_count": 7,
   "id": "4a2fdca3",
   "metadata": {},
   "outputs": [],
   "source": [
    "# for i in range (12):\n",
    "#     draw_curves(draw_lines(draw_grid()), X_0, num_lead=i).show()"
   ]
  }
 ],
 "metadata": {
  "kernelspec": {
   "display_name": "Python 3 (ipykernel)",
   "language": "python",
   "name": "python3"
  },
  "language_info": {
   "codemirror_mode": {
    "name": "ipython",
    "version": 3
   },
   "file_extension": ".py",
   "mimetype": "text/x-python",
   "name": "python",
   "nbconvert_exporter": "python",
   "pygments_lexer": "ipython3",
   "version": "3.7.13"
  }
 },
 "nbformat": 4,
 "nbformat_minor": 5
}
