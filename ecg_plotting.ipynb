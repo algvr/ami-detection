{
 "cells": [
  {
   "cell_type": "code",
   "execution_count": null,
   "source": [
    "# use this notebook to test the ECG plotting function"
   ],
   "outputs": [],
   "metadata": {
    "collapsed": false,
    "pycharm": {
     "name": "#%%\n"
    }
   }
  },
  {
   "cell_type": "code",
   "execution_count": null,
   "source": [
    "# imports\n",
    "\n",
    "from dataset_downloader import download_dataset\n",
    "import datasets.ptb_xl.data_handling as ptb_xl_dh\n",
    "from ecg_plotting import *\n",
    "from IPython.core.display_functions import display\n",
    "import numpy as np"
   ],
   "outputs": [],
   "metadata": {}
  },
  {
   "cell_type": "code",
   "execution_count": null,
   "source": [
    "# download datasets\n",
    "\n",
    "download_dataset('backgrounds')\n",
    "download_dataset('ptb_xl')"
   ],
   "outputs": [],
   "metadata": {
    "collapsed": false,
    "pycharm": {
     "name": "#%%\n"
    }
   }
  },
  {
   "cell_type": "code",
   "execution_count": null,
   "source": [
    "# generate and visualize an ECG paper\n",
    "\n",
    "def generate_example_ecg():\n",
    "    X, Y = ptb_xl_dh.get_ecg_array()\n",
    "    X_0 = X[0]\n",
    "    example_layout_array = np.stack([[[list(map(str.lower, ptb_xl_dh.PTB_XL_LEAD_LABELS)).index(\n",
    "        DEFAULT_ECG_LEAD_SEQUENCE[4 * row_idx + col_idx].lower()), 0, 270] for col_idx in range(4)] for row_idx in range(3)])\n",
    "    example_label_array = ptb_xl_dh.layout_array_to_label_array(example_layout_array)\n",
    "    img = get_ecg_image(layout_array=example_layout_array, label_array=example_label_array, recording_array=X_0, draw_initial_calib_rectangle=False)\n",
    "    return img\n",
    "\n",
    "display(generate_example_ecg()[0])"
   ],
   "outputs": [],
   "metadata": {
    "collapsed": false,
    "pycharm": {
     "name": "#%%\n"
    }
   }
  }
 ],
 "metadata": {
  "kernelspec": {
   "name": "python3",
   "display_name": "Python 3.8.10 64-bit"
  },
  "language_info": {
   "codemirror_mode": {
    "name": "ipython",
    "version": 3
   },
   "file_extension": ".py",
   "mimetype": "text/x-python",
   "name": "python",
   "nbconvert_exporter": "python",
   "pygments_lexer": "ipython3",
   "version": "3.8.10"
  },
  "interpreter": {
   "hash": "31f2aee4e71d21fbe5cf8b01ff0e069b9275f58929596ceb00d14d90e3e16cd6"
  }
 },
 "nbformat": 4,
 "nbformat_minor": 5
}