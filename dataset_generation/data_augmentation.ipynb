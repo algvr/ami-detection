{
 "cells": [
  {
   "cell_type": "code",
   "execution_count": null,
   "source": [
    "# use this notebook to test the data augmentation functions\r\n",
    "# it can also be used to generate ECG photograph datasets and to generate lead snippet datasets for training segmentation\r\n",
    "# networks (see two bottommost cells)"
   ],
   "outputs": [],
   "metadata": {
    "collapsed": false,
    "pycharm": {
     "name": "#%%\n"
    }
   }
  },
  {
   "cell_type": "code",
   "execution_count": 1,
   "source": [
    "os.chdir(os.path.dirname(os.path.abspath('')))"
   ],
   "outputs": [],
   "metadata": {}
  },
  {
   "cell_type": "code",
   "execution_count": 2,
   "source": [
    "# imports\r\n",
    "\r\n",
    "from data_augmentation import *\r\n",
    "from IPython.core.display_functions import display\r\n",
    "import json\r\n",
    "import math\r\n",
    "import numpy as np\r\n",
    "from PIL import Image\r\n",
    "import os"
   ],
   "outputs": [],
   "metadata": {
    "collapsed": false,
    "pycharm": {
     "name": "#%%\n"
    }
   }
  },
  {
   "cell_type": "code",
   "execution_count": null,
   "source": [
    "# tips for finding sensible default parameters for the parameter distributions of get_random_ecg_photo:\r\n",
    "#\r\n",
    "# fix all sigmas to 0 except the parameter(s) to vary; downscale image for faster generation time\r\n",
    "# go to desmos.com, input Gaussian/Beta PDF formula with parameters to see how likely a given parameter value will be\r\n",
    "# for shadows, we can have either a bright shadow (camera flash) or a dark shadow (normal shadow); we use a U-shaped beta distribution to simulate this"
   ],
   "outputs": [],
   "metadata": {
    "collapsed": false,
    "pycharm": {
     "name": "#%%\n"
    }
   }
  },
  {
   "cell_type": "code",
   "execution_count": null,
   "source": [
    "bg_img = get_background_image(3)  # useful for fixing a specific background image"
   ],
   "outputs": [],
   "metadata": {
    "collapsed": false,
    "pycharm": {
     "name": "#%%\n"
    }
   }
  },
  {
   "cell_type": "code",
   "execution_count": null,
   "source": [
    "# experiment with different parameters here\r\n",
    "\r\n",
    "img, mask_imgs, label, lead_pos, angle = get_random_ecg_photo(original_image_scaling_factor_mu=1.0,\r\n",
    "                                                              original_image_scaling_factor_sd=0.0,\r\n",
    "                                                              blur_factor_mu=0.1,\r\n",
    "                                                              blur_factor_sd=0.05,\r\n",
    "                                                              ecg_paper_scale_mu=1.02,\r\n",
    "                                                              ecg_paper_scale_sd=0.02,\r\n",
    "                                                              ecg_paper_y_skew_mu=1.0,\r\n",
    "                                                              ecg_paper_y_skew_sd=0.08,\r\n",
    "                                                              rotation_angle_mu=0.0,\r\n",
    "                                                              rotation_angle_sd=1.5,\r\n",
    "                                                              ecg_paper_relative_translation_x_mu=0.0,\r\n",
    "                                                              ecg_paper_relative_translation_x_sd=0.05,\r\n",
    "                                                              ecg_paper_relative_translation_y_mu=0.0,\r\n",
    "                                                              ecg_paper_relative_translation_y_sd=0.05,\r\n",
    "                                                              shadow_color_beta_1=0.3,\r\n",
    "                                                              shadow_color_beta_2=0.3,\r\n",
    "                                                              shadow_alpha_beta_1=8.0,\r\n",
    "                                                              shadow_alpha_beta_2=25.0,\r\n",
    "                                                              shadow_relative_start_point_mu=0.0,\r\n",
    "                                                              shadow_relative_start_point_sd=0.1,\r\n",
    "                                                              shadow_relative_end_point_mu=1.0,\r\n",
    "                                                              shadow_relative_end_point_sd=0.1,\r\n",
    "                                                              shadow_blur_factor_mu=50.0,\r\n",
    "                                                              shadow_blur_factor_sd=3.0,\r\n",
    "                                                              white_noise_p_beta_1=5.0,\r\n",
    "                                                              white_noise_p_beta_2=5.0,\r\n",
    "                                                              white_noise_sd_mu=20.0,\r\n",
    "                                                              white_noise_sd_sd=5.0)\r\n",
    "                                                              #background_image=bg_img)\r\n",
    "display(img)"
   ],
   "outputs": [],
   "metadata": {
    "collapsed": false,
    "pycharm": {
     "name": "#%%\n"
    }
   }
  },
  {
   "cell_type": "code",
   "execution_count": 4,
   "source": [
    "# create dataset directories, set save_dir\r\n",
    "\r\n",
    "root_dir = os.path.join('datasets', 'ptb_v')\r\n",
    "config_dir = root_dir\r\n",
    "save_dir = os.path.join(root_dir, 'training')\r\n",
    "for dir_path in [root_dir, config_dir, save_dir]:\r\n",
    "    os.makedirs(dir_path, exist_ok=True)"
   ],
   "outputs": [],
   "metadata": {}
  },
  {
   "cell_type": "code",
   "execution_count": null,
   "source": [
    "# dataset generation\r\n",
    "\r\n",
    "import datetime\r\n",
    "\r\n",
    "sample_idx_start = 0\r\n",
    "num_samples_to_generate = 10000\r\n",
    "\r\n",
    "for sample_idx in range(sample_idx_start, sample_idx_start + num_samples_to_generate):\r\n",
    "    photo, mask_imgs, data, lead_pos, angle = get_random_ecg_photo()\r\n",
    "    scp_codes = data['scp_codes']\r\n",
    "    scp_code_str = '_'.join([f'{k}={v}' for k, v in scp_codes.items()])\r\n",
    "    rec_date = datetime.datetime.strptime(data['recording_date'], '%Y-%m-%d %H:%M:%S')\r\n",
    "    rec_timestamp = (rec_date - datetime.datetime(1970, 1, 1)).total_seconds()\r\n",
    "    id_str = str(int(data['patient_id'])) + '_' + str(int(rec_timestamp))\r\n",
    "    if len(scp_code_str) > 0:\r\n",
    "        scp_code_str = '_' + scp_code_str\r\n",
    "    path_no_ext = (('%0' + str(math.ceil(math.log10(num_samples_to_generate))) + 'd_' + id_str + scp_code_str)\r\n",
    "                    % sample_idx).replace('/', '-').replace('\\\\', '-')\r\n",
    "    path_photo = os.path.join(save_dir, path_no_ext + '.jpg')\r\n",
    "    photo.convert('RGB').save(path_photo)\r\n",
    "    \r\n",
    "    # now, we can merge the individual masks\r\n",
    "    # use channel 3 (alpha channel) to detect presence of pixels\r\n",
    "\r\n",
    "    curve_mask_arr = (np.array(mask_imgs[0])[:, :, 3] > 0).astype(np.uint8)\r\n",
    "    thick_hor_lines_mask_arr = (np.array(mask_imgs[1])[:, :, 3] > 0).astype(np.uint8)\r\n",
    "    thick_vert_lines_mask_arr = (np.array(mask_imgs[2])[:, :, 3] > 0).astype(np.uint8)\r\n",
    "\r\n",
    "    mask_arr = ((thick_hor_lines_mask_arr * 85 * (1 - thick_vert_lines_mask_arr) + thick_vert_lines_mask_arr * 170) * \r\n",
    "                (1 - curve_mask_arr)) + curve_mask_arr * 255\r\n",
    "\r\n",
    "    path_mask_img = os.path.join(save_dir, path_no_ext + '_mask.png')\r\n",
    "    mask_img = Image.fromarray(mask_arr)\r\n",
    "    mask_img.save(path_mask_img)\r\n",
    "\r\n",
    "    img_width, img_height = photo.size\r\n",
    "    with open(os.path.join(save_dir, path_no_ext + '_data.json'), 'w') as lead_pos_file:\r\n",
    "        lead_pos['_img_path'] = path_photo\r\n",
    "        lead_pos['_mask_img_path'] = path_mask_img\r\n",
    "        lead_pos['_angle'] = angle\r\n",
    "        lead_pos['_img_width'] = img_width\r\n",
    "        lead_pos['_img_height'] = img_height\r\n",
    "        lead_pos['_scp_codes'] = data['scp_codes']\r\n",
    "\r\n",
    "        # set label\r\n",
    "        \r\n",
    "        mi_list = ['IMI', 'ASMI', 'ILMI', 'AMI', 'LMI', 'IPLMI', 'IPMI', 'PMI']\r\n",
    "        if len(set(data['scp_codes'].keys()) & set(mi_list)) > 0:\r\n",
    "            is_normal, is_non_mi_abnormality, is_mi = [False, False, True]\r\n",
    "        elif len(set(data['scp_codes'].keys()) & set(['NORM'])) == 1 and data['scp_codes']['NORM'] >= 80.0:\r\n",
    "            is_normal, is_non_mi_abnormality, is_mi = [True, False, False]\r\n",
    "        else:\r\n",
    "            is_normal, is_non_mi_abnormality, is_mi = [False, True, False]\r\n",
    "        \r\n",
    "        lead_pos['_is_normal'] = is_normal\r\n",
    "        lead_pos['_is_non_mi_abnormality'] = is_non_mi_abnormality\r\n",
    "        lead_pos['_is_mi'] = is_mi\r\n",
    "\r\n",
    "        lead_pos_file.write(json.dumps(lead_pos))\r\n",
    "\r\n",
    "# write dataset parameters\r\n",
    "\r\n",
    "dataset_params = get_default_ecg_param_dict()\r\n",
    "dataset_params['num_samples'] = num_samples_to_generate\r\n",
    "with open(os.path.join(config_dir, 'dataset_hyperparams.json'), 'w') as f:\r\n",
    "    f.write(json.dumps(dataset_params))"
   ],
   "outputs": [],
   "metadata": {
    "collapsed": false,
    "pycharm": {
     "name": "#%%\n"
    }
   }
  },
  {
   "cell_type": "code",
   "execution_count": 5,
   "source": [
    "# generation of individual lead pictures\r\n",
    "\r\n",
    "# lead bounding box coordinate distortion is drawn from a zero-mean Gaussian distribution\r\n",
    "# the distribution's sigma parameter is determined relative to the width resp. height of the image\r\n",
    "\r\n",
    "lead_bounding_box_distortion_sigma_x_relative_to_width = 0.01\r\n",
    "lead_bounding_box_distortion_sigma_y_relative_to_height = 0.01\r\n",
    "\r\n",
    "# lead bounding box rotation distortion is drawn from a zero-mean Gaussian distribution\r\n",
    "# the distribution's sigma parameter is determined here\r\n",
    "\r\n",
    "lead_bounding_box_rotation_distortion_sigma = 3\r\n",
    "\r\n",
    "\r\n",
    "def get_new_point_pos(pt_x, pt_y, angle_deg, img_width, img_height):\r\n",
    "    # credit to https://stackoverflow.com/a/51964802\r\n",
    "    center_x = int(img_width / 2)\r\n",
    "    center_y = int(img_height / 2)\r\n",
    "\r\n",
    "    angle_rad = (angle_deg / 180.0) * math.pi\r\n",
    "    new_px = center_x + int(float(pt_x - center_x) * math.cos(angle_rad)\r\n",
    "                            + float(pt_y - center_y) * math.sin(angle_rad))\r\n",
    "    new_py = center_y + int(-(float(pt_x - center_x) * math.sin(angle_rad))\r\n",
    "                            + float(pt_y - center_y) * math.cos(angle_rad))\r\n",
    "    return new_px, new_py\r\n",
    "\r\n",
    "individual_lead_dir = os.path.join(save_dir, 'individual_leads')\r\n",
    "os.makedirs(individual_lead_dir, exist_ok=True)\r\n",
    "\r\n",
    "for root, dirs, files in os.walk(save_dir):\r\n",
    "    for filename in files:\r\n",
    "        if not filename.lower().endswith('.json'):\r\n",
    "            continue\r\n",
    "        with open(os.path.join(save_dir, filename), 'r+') as f:\r\n",
    "            content = f.read()\r\n",
    "            try:\r\n",
    "                lead_pos = json.loads(content)\r\n",
    "                _img_path = lead_pos['_img_path']\r\n",
    "                _mask_img_path = lead_pos['_mask_img_path']\r\n",
    "                angle = lead_pos['_angle']\r\n",
    "                img_width = lead_pos['_img_width']\r\n",
    "                img_height = lead_pos['_img_height']\r\n",
    "            except Exception as e:\r\n",
    "                print(f'Error with {filename}: {e}')\r\n",
    "                continue\r\n",
    "\r\n",
    "            photo_fn = os.path.basename(_img_path)\r\n",
    "            photo_fn_dot_idx = photo_fn.rfind('.')\r\n",
    "            photo_ext = photo_fn[photo_fn_dot_idx+1:]\r\n",
    "            individual_lead_fn_prefix = os.path.join(individual_lead_dir, photo_fn[:photo_fn_dot_idx])\r\n",
    "\r\n",
    "            mask_img_fn = os.path.basename(_mask_img_path)\r\n",
    "            mask_img_fn_dot_idx = mask_img_fn.rfind('.')\r\n",
    "            mask_img_ext = mask_img_fn[mask_img_fn_dot_idx+1:]\r\n",
    "\r\n",
    "            img = Image.open(_img_path)\r\n",
    "            mask_img = Image.open(_mask_img_path)    \r\n",
    "\r\n",
    "            lead_bounding_box_distortion_sigma_x = lead_bounding_box_distortion_sigma_x_relative_to_width * img.size[0]\r\n",
    "            lead_bounding_box_distortion_sigma_y = lead_bounding_box_distortion_sigma_y_relative_to_height * img.size[1]\r\n",
    "\r\n",
    "            rot_kwargs = {'img_width': img_width, 'img_height': img_height}\r\n",
    "\r\n",
    "            individual_lead_img_paths = {}\r\n",
    "            individual_lead_mask_img_paths = {}\r\n",
    "\r\n",
    "            for lead_name, pos in lead_pos.items():\r\n",
    "                if lead_name.startswith('_'):\r\n",
    "                    continue\r\n",
    "\r\n",
    "                # apply rotation distortion per lead\r\n",
    "                angle_distorted = angle + np.random.normal(0, lead_bounding_box_rotation_distortion_sigma)\r\n",
    "\r\n",
    "                tl_x, tl_y, tr_x, tr_y, bl_x, bl_y, br_x, br_y =\\\r\n",
    "                    [round(p + np.random.normal(0,\r\n",
    "                                                (lead_bounding_box_distortion_sigma_x if p_idx % 2 == 0\r\n",
    "                                                    else lead_bounding_box_distortion_sigma_y)))\r\n",
    "                                                for p_idx, p in enumerate(pos)]\r\n",
    "                tl_x_rot, tl_y_rot = get_new_point_pos(tl_x, tl_y, angle_deg=-angle_distorted, **rot_kwargs)\r\n",
    "                tr_x_rot, tr_y_rot = get_new_point_pos(tr_x, tr_y, angle_deg=-angle_distorted, **rot_kwargs)\r\n",
    "                bl_x_rot, bl_y_rot = get_new_point_pos(bl_x, bl_y, angle_deg=-angle_distorted, **rot_kwargs)\r\n",
    "                br_x_rot, br_y_rot = get_new_point_pos(br_x, br_y, angle_deg=-angle_distorted, **rot_kwargs)\r\n",
    "                \r\n",
    "                leftmost_x   = max(0, min(img_width - 1, min([tl_x_rot, tr_x_rot, bl_x_rot, br_x_rot])))\r\n",
    "                topmost_y    = max(0, min(img_height - 1, min([tl_y_rot, tr_y_rot, bl_y_rot, br_y_rot])))\r\n",
    "                \r\n",
    "                rightmost_x  = max(0, min(img_width - 1, max([tl_x_rot, tr_x_rot, bl_x_rot, br_x_rot])))\r\n",
    "                bottommost_y = max(0, min(img_height - 1, max([tl_y_rot, tr_y_rot, bl_y_rot, br_y_rot])))\r\n",
    "\r\n",
    "                rot_img = img.rotate(-angle_distorted)\r\n",
    "                rot_mask_img = mask_img.rotate(-angle_distorted)\r\n",
    "\r\n",
    "                lead_img = rot_img.crop((leftmost_x, topmost_y, rightmost_x, bottommost_y))\r\n",
    "                lead_mask_img = rot_mask_img.crop((leftmost_x, topmost_y, rightmost_x, bottommost_y))\r\n",
    "                \r\n",
    "                lead_img_path = f'{individual_lead_fn_prefix}_LEAD={lead_name}.{photo_ext}'\r\n",
    "                lead_img.save(lead_img_path)\r\n",
    "\r\n",
    "                lead_mask_img_path = f'{individual_lead_fn_prefix}_LEAD={lead_name}_mask.{mask_img_ext}'\r\n",
    "                lead_mask_img.save(lead_mask_img_path)\r\n",
    "                \r\n",
    "                individual_lead_img_paths[lead_name] = lead_img_path\r\n",
    "                individual_lead_mask_img_paths[lead_name] = lead_mask_img_path\r\n",
    "\r\n",
    "            lead_pos['_lead_img_paths'] = individual_lead_img_paths\r\n",
    "            lead_pos['_lead_mask_img_paths'] = individual_lead_mask_img_paths\r\n",
    "\r\n",
    "            f.seek(0)\r\n",
    "            f.write(json.dumps(lead_pos))\r\n",
    "            f.truncate()\r\n",
    "\r\n",
    "# save individual lead image generation parameters\r\n",
    "\r\n",
    "lead_bounding_box_distortion_sigma_x_relative_to_width = 0.01\r\n",
    "lead_bounding_box_distortion_sigma_y_relative_to_height = 0.01\r\n",
    "\r\n",
    "# lead bounding box rotation distortion is drawn from a zero-mean Gaussian distribution\r\n",
    "# the distribution's sigma parameter is determined here\r\n",
    "\r\n",
    "lead_bounding_box_rotation_distortion_sigma = 3\r\n",
    "\r\n",
    "individual_lead_generation_params =\\\r\n",
    "     {'lead_bounding_box_distortion_sigma_x_relative_to_width': lead_bounding_box_distortion_sigma_x_relative_to_width,\r\n",
    "      'lead_bounding_box_distortion_sigma_y_relative_to_height': lead_bounding_box_distortion_sigma_y_relative_to_height,\r\n",
    "      'lead_bounding_box_rotation_distortion_sigma': lead_bounding_box_rotation_distortion_sigma}\r\n",
    "\r\n",
    "with open(os.path.join(config_dir, 'dataset_individual_lead_hyperparams.json'), 'w') as f:\r\n",
    "    f.write(json.dumps(individual_lead_generation_params))"
   ],
   "outputs": [],
   "metadata": {}
  }
 ],
 "metadata": {
  "colab": {
   "authorship_tag": "ABX9TyO/Inz4Z9CobiN6BrT6XYjn",
   "collapsed_sections": [],
   "include_colab_link": true,
   "name": "data_augmentation.ipynb",
   "provenance": []
  },
  "kernelspec": {
   "name": "python3",
   "display_name": "Python 3.9.12 64-bit ('ami-detection-new': conda)"
  },
  "language_info": {
   "name": "python",
   "version": "3.9.12",
   "mimetype": "text/x-python",
   "codemirror_mode": {
    "name": "ipython",
    "version": 3
   },
   "pygments_lexer": "ipython3",
   "nbconvert_exporter": "python",
   "file_extension": ".py"
  },
  "interpreter": {
   "hash": "d6c65cdbc04b06299071fc5246b257edd2f52694a421b72966582946bf92c5b9"
  }
 },
 "nbformat": 4,
 "nbformat_minor": 1
}