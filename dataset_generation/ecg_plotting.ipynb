{
 "cells": [
  {
   "cell_type": "code",
   "execution_count": null,
   "source": [
    "# use this notebook to test the ECG plotting function"
   ],
   "outputs": [],
   "metadata": {
    "collapsed": false,
    "pycharm": {
     "name": "#%%\n"
    }
   }
  },
  {
   "cell_type": "code",
   "execution_count": null,
   "source": [
    "os.chdir(os.path.dirname(os.path.abspath('')))"
   ],
   "outputs": [],
   "metadata": {}
  },
  {
   "cell_type": "code",
   "execution_count": null,
   "source": [
    "# imports\r\n",
    "\r\n",
    "from dataset_downloader import download_dataset\r\n",
    "import datasets.ptb_xl.data_handling as ptb_xl_dh\r\n",
    "from ecg_plotting import *\r\n",
    "from IPython.core.display_functions import display\r\n",
    "import numpy as np"
   ],
   "outputs": [],
   "metadata": {}
  },
  {
   "cell_type": "code",
   "execution_count": null,
   "source": [
    "# download datasets\r\n",
    "\r\n",
    "download_dataset('backgrounds')\r\n",
    "download_dataset('ptb_xl')"
   ],
   "outputs": [],
   "metadata": {
    "collapsed": false,
    "pycharm": {
     "name": "#%%\n"
    }
   }
  },
  {
   "cell_type": "code",
   "execution_count": null,
   "source": [
    "# generate and visualize an ECG paper\r\n",
    "\r\n",
    "def generate_example_ecg():\r\n",
    "    X, Y = ptb_xl_dh.get_ecg_array()\r\n",
    "    X_0 = X[0]\r\n",
    "    example_layout_array = np.stack([[[list(map(str.lower, ptb_xl_dh.PTB_XL_LEAD_LABELS)).index(\r\n",
    "        DEFAULT_ECG_LEAD_SEQUENCE[4 * row_idx + col_idx].lower()), 0, 270] for col_idx in range(4)] for row_idx in range(3)])\r\n",
    "    example_label_array = ptb_xl_dh.layout_array_to_label_array(example_layout_array)\r\n",
    "    img = get_ecg_image(layout_array=example_layout_array, label_array=example_label_array, recording_array=X_0, draw_initial_calib_rectangle=False)\r\n",
    "    return img\r\n",
    "\r\n",
    "display(generate_example_ecg()[0])"
   ],
   "outputs": [],
   "metadata": {
    "collapsed": false,
    "pycharm": {
     "name": "#%%\n"
    }
   }
  },
  {
   "cell_type": "code",
   "execution_count": null,
   "source": [],
   "outputs": [],
   "metadata": {}
  }
 ],
 "metadata": {
  "kernelspec": {
   "name": "python3",
   "display_name": "Python 3.9.12 64-bit ('ami-detection-new': conda)"
  },
  "language_info": {
   "codemirror_mode": {
    "name": "ipython",
    "version": 3
   },
   "file_extension": ".py",
   "mimetype": "text/x-python",
   "name": "python",
   "nbconvert_exporter": "python",
   "pygments_lexer": "ipython3",
   "version": "3.9.12"
  },
  "interpreter": {
   "hash": "d6c65cdbc04b06299071fc5246b257edd2f52694a421b72966582946bf92c5b9"
  }
 },
 "nbformat": 4,
 "nbformat_minor": 5
}